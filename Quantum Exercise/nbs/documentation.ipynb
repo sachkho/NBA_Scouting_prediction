{
 "cells": [
  {
   "cell_type": "markdown",
   "metadata": {},
   "source": [
    "# Project Documentation"
   ]
  },
  {
   "cell_type": "markdown",
   "metadata": {},
   "source": [
    "## Introduction"
   ]
  },
  {
   "cell_type": "markdown",
   "metadata": {},
   "source": [
    "This notebook provides documentation for the Basketball Drafting Project. It includes instructions on how to set up the project on your computer and descriptions of the data files."
   ]
  },
  {
   "cell_type": "markdown",
   "metadata": {},
   "source": [
    "## Setup Instructions"
   ]
  },
  {
   "cell_type": "markdown",
   "metadata": {},
   "source": [
    "### Prerequisites"
   ]
  },
  {
   "cell_type": "markdown",
   "metadata": {},
   "source": [
    "Ensure you have Python installed on your computer. You can download it from [python.org](https://www.python.org/)."
   ]
  },
  {
   "cell_type": "markdown",
   "metadata": {},
   "source": [
    "### Virtual Environment"
   ]
  },
  {
   "cell_type": "markdown",
   "metadata": {},
   "source": [
    "It is recommended to use a virtual environment to manage dependencies. You can create and activate a virtual environment using the following command:\n",
    "\n",
    "<!-- ```sh\n",
    "# Create a virtual environment\n",
    "src/setup.psi\n",
    "``` -->\n",
    "This bash will create a virtual environment and install the required packages.\n"
   ]
  },
  {
   "cell_type": "markdown",
   "metadata": {},
   "source": [
    "## Project Structure"
   ]
  },
  {
   "cell_type": "markdown",
   "metadata": {},
   "source": [
    "<!DOCTYPE html>\n",
    "<html>\n",
    "<head>\n",
    "    <title>Directory Structure</title>\n",
    "    <style>\n",
    "        ul {\n",
    "            list-style-type: none;\n",
    "        }\n",
    "        ul ul {\n",
    "            margin-left: 20px;\n",
    "        }\n",
    "    </style>\n",
    "</head>\n",
    "<body>\n",
    "    <pre>\n",
    "root\n",
    "|\n",
    "| documentation.ipynb\n",
    "|\n",
    "| - data\n",
    "|   | - lists\n",
    "|   | - proc\n",
    "|   | - raw\n",
    "|   | - tbls\n",
    "|\n",
    "| - img\n",
    "|\n",
    "| - nbs\n",
    "|\n",
    "| - src\n",
    "|   | requirements.txt\n",
    "|   | source.ps1\n",
    "    </pre>\n",
    "</body>\n",
    "</html>\n"
   ]
  },
  {
   "cell_type": "markdown",
   "metadata": {},
   "source": [
    "### Data"
   ]
  },
  {
   "cell_type": "markdown",
   "metadata": {},
   "source": [
    "<!DOCTYPE html>\n",
    "<html>\n",
    "<head>\n",
    "    <title>Directory Structure</title>\n",
    "    <style>\n",
    "        ul {\n",
    "            list-style-type: none;\n",
    "        }\n",
    "        ul ul {\n",
    "            margin-left: 20px;\n",
    "        }\n",
    "    </style>\n",
    "</head>\n",
    "<body>\n",
    "    <p>This folder contains the data related to the project.</p>\n",
    "    <ul>\n",
    "        <li><strong>lists</strong> Lists in csv or txt format containing parameters required for Python scripts.</li>\n",
    "        <li><strong>proc</strong> Folder reserved for fully processed data ready to be analyzed.</li>\n",
    "        <li><strong>raw</strong> Folder destined for temporary files created by Python scripts.</li>\n",
    "        <li><strong>tbls</strong> CSV files from the cleaned data.</li>\n",
    "    </ul>\n",
    "</body>\n",
    "</html>\n"
   ]
  },
  {
   "cell_type": "markdown",
   "metadata": {},
   "source": [
    "### Img"
   ]
  },
  {
   "cell_type": "markdown",
   "metadata": {},
   "source": [
    "Folder containing image files created by Python scripts or to be used in notebooks."
   ]
  },
  {
   "cell_type": "markdown",
   "metadata": {},
   "source": [
    "### Nbs"
   ]
  },
  {
   "cell_type": "markdown",
   "metadata": {},
   "source": [
    "Folder containing .ipynb or .rmd files for particular tasks."
   ]
  },
  {
   "cell_type": "markdown",
   "metadata": {},
   "source": [
    "### Src"
   ]
  },
  {
   "cell_type": "markdown",
   "metadata": {},
   "source": [
    "Folder containing any Python script. This folder also includes the requirements.txt and setup.ps1 required to automate the virtual environment creation.\n"
   ]
  },
  {
   "cell_type": "markdown",
   "metadata": {},
   "source": [
    "## Usage"
   ]
  },
  {
   "cell_type": "markdown",
   "metadata": {},
   "source": [
    "To start you must run the setup script. This script will create a new environment, activate it and load the packages listed in `requirements.txt`. To do so, run the command to your respective system in your IDE or system terminal (making sure the path displayed is your project root):\n",
    "\n",
    "```sh {add something here to not run this code automatically}\n",
    "<!-- This section is intentionally left commented to prevent accidental execution \n",
    "# Command to be used in a Linux or MacOS terminal\n",
    "src/setup.sh\n",
    "\n",
    "# Command to be used in a Windows terminal\n",
    "src/setup.ps1\n",
    "-->\n",
    "```"
   ]
  },
  {
   "cell_type": "markdown",
   "metadata": {},
   "source": [
    "### Data Structure"
   ]
  },
  {
   "cell_type": "markdown",
   "metadata": {},
   "source": [
    "<!DOCTYPE html>\n",
    "<html>\n",
    "<head>\n",
    "    <title>Diagram Metadata</title>    \n",
    "</head>\n",
    "<body>\n",
    "    <img src=\"../img/schema.png\" alt=\"Schema Diagram\">\n",
    "</body>\n",
    "</html>\n"
   ]
  },
  {
   "cell_type": "markdown",
   "metadata": {},
   "source": [
    "#### Cities"
   ]
  },
  {
   "cell_type": "markdown",
   "metadata": {},
   "source": [
    "<!DOCTYPE html>\n",
    "<html>\n",
    "<head>\n",
    "    <title>Cities Metadata</title>\n",
    "    <style>\n",
    "        ul {\n",
    "            list-style-type: none;\n",
    "        }\n",
    "        ul ul {\n",
    "            margin-left: 20px;\n",
    "        }\n",
    "    </style>\n",
    "</head>\n",
    "<body>\n",
    "    <p>Contains the individual information for every city relevant to the database. The description of the cities data is:.</p>\n",
    "    <ul>\n",
    "        <li><strong>geo.id (Integer)</strong> An integer hash id for the city to be used as foreign key. This is obtained from the Geonames API.</li>\n",
    "        <li><strong>city.name (String)</strong> The city's name. Formated to be in lower case and with utf-8 encoding.</li>\n",
    "        <li><strong>state.name (String)</strong> The state's name. Formated to be in lower case and with utf-8 encoding. For Canadian cities, this is used to store the province.</li>\n",
    "    </ul>\n",
    "</body>\n",
    "</html>\n"
   ]
  },
  {
   "cell_type": "markdown",
   "metadata": {},
   "source": [
    "#### Combine Stats"
   ]
  },
  {
   "cell_type": "markdown",
   "metadata": {},
   "source": [
    "<!DOCTYPE html>\n",
    "<html>\n",
    "<head>\n",
    "    <title>Conference History Metadata</title>\n",
    "    <style>\n",
    "        ul {\n",
    "            list-style-type: none;\n",
    "        }\n",
    "        ul ul {\n",
    "            margin-left: 20px;\n",
    "        }\n",
    "    </style>\n",
    "</head>\n",
    "<body>\n",
    "    <p>Tracks changes over time for all conferences. The description of the conference history data is:.</p>\n",
    "    <ul>\n",
    "        <li><strong>historical.id</strong> An integer, sequentially created, to be used as a unique identifier and as foreign key.</li>\n",
    "        <li><strong>season.year (Integer)</strong> Season year to which this specific observation is related to. This is used based on <b>NBA</b>'s seasons (i.e. 2022 for the 2021-2022 season). As a result, when comparing within this dataset, <b>NCAA</b>'s seasons precede their <b>NBA</b> NBA counterpart. as an example,  <b>NCAA</b>'s 2020-2021 season is stored as 2020 while <b>NBA</b>'s 2020-2021 season is stored as 2021.</li>\n",
    "        <li><strong>player.id (Integer) [FK]</strong> The players.player.id for the related team.</li>\n",
    "        <li><strong>stat.nbaBrL (Float)</strong> Value related to NBA break left metric.</li>\n",
    "        <li><strong>stat.nbaBrR (Float)</strong> Value related to NBA break right metric.</li>\n",
    "        <li><strong>stat.nbaCornL (Float)</strong> Value related to NBA corner left metric.</li>\n",
    "        <li><strong>stat.nbaCornR (Float)</strong> Value related to NBA corner right metric.</li>\n",
    "        <li><strong>stat.nbaTop (Float)</strong> Value related to NBA top key metric.</li>\n",
    "        <li><strong>stat.collBrL (Float)</strong> Value related to college break left metric.</li>\n",
    "        <li><strong>stat.collBrR (Float)</strong> Value related to college break right metric.</li>\n",
    "        <li><strong>stat.collCornL (Float)</strong> Value related to college corner left metric.</li>\n",
    "        <li><strong>stat.collCornR (Float)</strong> Value related to college corner right metric.</li>\n",
    "        <li><strong>stat.collTop (Float)</strong> Value related to college top key metric.</li>\n",
    "        <li><strong>stat.fiftBrL (Float)</strong> Value related to fifiteen break left metric.</li>\n",
    "        <li><strong>stat.fiftBrR (Float)</strong> Value related to fifiteen break right metric.</li>\n",
    "        <li><strong>stat.fiftCornL (Float)</strong> Value related to fifiteen corner left metric.</li>\n",
    "        <li><strong>stat.fiftCornR (Float)</strong> Value related to fifiteen corner right metric.</li>\n",
    "        <li><strong>stat.fiftTop (Float)</strong> Value related to fifiteen top key metric.</li>\n",
    "        <li><strong>stat.drblCollBrL (Float)</strong> Value related to off dribble college break left metric.</li>\n",
    "        <li><strong>stat.drblCollBrR (Float)</strong> Value related to off dribble college break right metric.</li>\n",
    "        <li><strong>stat.drblCollTop (Float)</strong> Value related to off dribble college top key metric.</li>\n",
    "        <li><strong>stat.drblFiftBrL (Float)</strong> Value related to off dribble fifiteen break left metric.</li>\n",
    "        <li><strong>stat.drblFiftBrR (Float)</strong> Value related to off dribble fifiteen break right metric.</li>\n",
    "        <li><strong>stat.drblFiftTop (Float)</strong> Value related to off dribble fifiteen top key metric.</li>\n",
    "        <li><strong>stat.otmColl (Float)</strong> Value related to on the move college metric.</li>\n",
    "        <li><strong>stat.otmFift (Float)</strong> Value related to on the move fifteen metric.</li>\n",
    "        <li><strong>stat.laneAgil (Float)</strong> Value related to lane agility metric. Measured in seconds.</li>\n",
    "        <li><strong>stat.shtlRun (Float)</strong> Value related to shuttle run metric. Measured in seconds.</li>\n",
    "        <li><strong>stat.threeQuartSprint (Float)</strong> Value related to three quarter sprint metric. Measured in seconds.</li>\n",
    "        <li><strong>stat.standVerLeap (Float)</strong> Value related to standing vertical leap metric. Measured in inches.</li>\n",
    "        <li><strong>stat.maxVerLeap (Float)</strong> Value related to maximum vertical leap metric. Measured in inches.</li>\n",
    "        <li><strong>stat.benchPress (Integer)</strong> Value related to maximum bench press metric. Measured in repetitions.</li>\n",
    "        <li><strong>stat,bodyFat (Float)</strong> Percentage of body fat measured for that player during the combine.</li>\n",
    "        <li><strong>stat.handLen (Float)</strong> Total hand length measured for that player during the combine. Measured in inches.</li>\n",
    "        <li><strong>stat.handWid (Float)</strong> Total hand width measured for that player during the combine. Measured in inches.</li>\n",
    "        <li><strong>stat.ht (Float)</strong> Measured height (without shoes) for that player during the combine. Measured in inches.</li>\n",
    "        <li><strong>stat,htShoe (Float)</strong> Measured height (with shoes) for that player during the combine. Measured in inches.</li>\n",
    "        <li><strong>stat.standReach (Float)</strong> Value related to standing reach metric. Measured in inches.</li>\n",
    "        <li><strong>stat.wt (Float)</strong> Measured weight for that player during the combine. Measured in pounds.</li>\n",
    "        <li><strong>stat.wingspan (Float)</strong> Total wingspan measured for that player during the combine. Measured in inches.</li>\n",
    "    </ul>\n",
    "</body>\n",
    "</html>\n"
   ]
  },
  {
   "cell_type": "markdown",
   "metadata": {},
   "source": [
    "#### Conferences"
   ]
  },
  {
   "cell_type": "markdown",
   "metadata": {},
   "source": [
    "<!DOCTYPE html>\n",
    "<html>\n",
    "<head>\n",
    "    <title>Conferences Metadata</title>\n",
    "    <style>\n",
    "        ul {\n",
    "            list-style-type: none;\n",
    "        }\n",
    "        ul ul {\n",
    "            margin-left: 20px;\n",
    "        }\n",
    "    </style>\n",
    "</head>\n",
    "<body>\n",
    "    <p>Contains the information for every conference, both for the <b>NBA</b> and <b>NCAA</b>. The description of the divisions data is:.</p>\n",
    "    <ul>\n",
    "        <li><strong>conference.id (Integer)</strong> An integer hash id for the conference to be used as foreign key.</li>\n",
    "        <li><strong>conference.name (String)</strong> The conference's name. Formated to be in lower case and with utf-8 encoding.</li>\n",
    "    </ul>\n",
    "</body>\n",
    "</html>\n"
   ]
  },
  {
   "cell_type": "markdown",
   "metadata": {},
   "source": [
    "#### Conference History"
   ]
  },
  {
   "cell_type": "markdown",
   "metadata": {},
   "source": [
    "<!DOCTYPE html>\n",
    "<html>\n",
    "<head>\n",
    "    <title>Conference History Metadata</title>\n",
    "    <style>\n",
    "        ul {\n",
    "            list-style-type: none;\n",
    "        }\n",
    "        ul ul {\n",
    "            margin-left: 20px;\n",
    "        }\n",
    "    </style>\n",
    "</head>\n",
    "<body>\n",
    "    <p>Tracks changes over time for all conferences. The description of the conference history data is:.</p>\n",
    "    <ul>\n",
    "        <li><strong>historical.id (Integer)</strong> An integer, sequentially created, to be used as a unique identifier and as foreign key.</li>\n",
    "        <li><strong>conference.id (Integer) [FK]</strong> The conferences.conference.id for the related conference.</li>\n",
    "        <li><strong>historical.name (String)</strong> The related conference name for this unique entry. Formated to be in lower case and with utf-8 encoding.</li>\n",
    "        <li><strong>start.year (Integer)</strong> The first season year (i.e. 2024 for the 2023-2024 season) the conference used that specific name. Formated to be in lower case and with utf-8 encoding.</li>\n",
    "        <li><strong>end.year (Integer)</strong> The last season year (i.e. 2024 for the 2023-2024 season) the conference used that specific name. Formated to be in lower case and with utf-8 encoding.</li>\n",
    "    </ul>\n",
    "</body>\n",
    "</html>\n"
   ]
  },
  {
   "cell_type": "markdown",
   "metadata": {},
   "source": [
    "#### Divisions"
   ]
  },
  {
   "cell_type": "markdown",
   "metadata": {},
   "source": [
    "<!DOCTYPE html>\n",
    "<html>\n",
    "<head>\n",
    "    <title>Divisions Metadata</title>\n",
    "    <style>\n",
    "        ul {\n",
    "            list-style-type: none;\n",
    "        }\n",
    "        ul ul {\n",
    "            margin-left: 20px;\n",
    "        }\n",
    "    </style>\n",
    "</head>\n",
    "<body>\n",
    "    <p>Contains the information for every <b>NBA</b> division. The description of the divisions data is:.</p>\n",
    "    <ul>\n",
    "        <li><strong>division.id (Integer)</strong> An integer hash id for the division to be used as foreign key. When used as a forerign key defaults <i>0</i> in case of an <b>NCAA</b> team.</li>\n",
    "        <li><strong>division.name (String)</strong> The division's name. Formated to be in lower case and with utf-8 encoding.</li>\n",
    "    </ul>\n",
    "</body>\n",
    "</html>\n"
   ]
  },
  {
   "cell_type": "markdown",
   "metadata": {},
   "source": [
    "#### Draft History"
   ]
  },
  {
   "cell_type": "markdown",
   "metadata": {},
   "source": [
    "<!DOCTYPE html>\n",
    "<html>\n",
    "<head>\n",
    "    <title>Draft History Metadata</title>\n",
    "    <style>\n",
    "        ul {\n",
    "            list-style-type: none;\n",
    "        }\n",
    "        ul ul {\n",
    "            margin-left: 20px;\n",
    "        }\n",
    "    </style>\n",
    "</head>\n",
    "<body>\n",
    "    <p>Tracks the draft outcome for each season year. The description of the draft history data is:.</p>\n",
    "    <ul>\n",
    "        <li><strong>historical.id (Integer)</strong> An integer, sequentially created, to be used as a unique identifier and as foreign key.</li>\n",
    "        <li><strong>season.year (Integer)</strong> Season year to which this specific observation is related to. This is used based on <b>NBA</b>'s seasons (i.e. 2022 for the 2021-2022 season). As a result, when comparing within this dataset, <b>NCAA</b>'s seasons precede their <b>NBA</b> NBA counterpart. as an example,  <b>NCAA</b>'s 2020-2021 season is stored as 2020 while <b>NBA</b>'s 2020-2021 season is stored as 2021.</li>\n",
    "        <li><strong>team.id (Integer) [FK]</strong> The teams.team.id for the related team.</li>\n",
    "        <li><strong>player.id (Integer) [FK]</strong> The players.player.id for the related team.</li>\n",
    "        <li><strong>draft.round (Integer)</strong> The draft round the related pick belongs to.</li>\n",
    "        <li><strong>draft.pickRound (Integer)</strong> The pick rank for that round.</li>\n",
    "        <li><strong>draft.pickOverall (Integer)</strong> The overall pick rank for that draft.</li>\n",
    "    </ul>\n",
    "</body>\n",
    "</html>\n"
   ]
  },
  {
   "cell_type": "markdown",
   "metadata": {},
   "source": [
    "#### Players"
   ]
  },
  {
   "cell_type": "markdown",
   "metadata": {},
   "source": [
    "<!DOCTYPE html>\n",
    "<html>\n",
    "<head>\n",
    "    <title>Players Metadata</title>\n",
    "    <style>\n",
    "        ul {\n",
    "            list-style-type: none;\n",
    "        }\n",
    "        ul ul {\n",
    "            margin-left: 20px;\n",
    "        }\n",
    "    </style>\n",
    "</head>\n",
    "<body>\n",
    "    <p>Contains the personal information for all players. The description of the players data is:</p>\n",
    "    <ul>\n",
    "        <li><strong>player.id (Integer)</strong> An integer hash id for the player to be used as foreign key.</li>\n",
    "        <li><strong>player.name (String)</strong> The player name. Formated to be in lower case and with utf-8 encoding.</li>\n",
    "        <li><strong>stat.ht (Float)</strong> Player's height in inches.</li>\n",
    "        <li><strong>stat.wt (Float)</strong> Player's weight in pounds.</li>\n",
    "    </ul>\n",
    "</body>\n",
    "</html>\n"
   ]
  },
  {
   "cell_type": "markdown",
   "metadata": {},
   "source": [
    "#### Player History"
   ]
  },
  {
   "cell_type": "markdown",
   "metadata": {},
   "source": [
    "<!DOCTYPE html>\n",
    "<html>\n",
    "<head>\n",
    "    <title>Player History Metadata</title>\n",
    "    <style>\n",
    "        ul {\n",
    "            list-style-type: none;\n",
    "        }\n",
    "        ul ul {\n",
    "            margin-left: 20px;\n",
    "        }\n",
    "    </style>\n",
    "</head>\n",
    "<body>\n",
    "    <p>Tracks a players record for an specific season. The description of the player history data is:.</p>\n",
    "    <ul>\n",
    "        <li><strong>historical.id (Integer)</strong> An integer, sequentially created, to be used as a unique identifier and as foreign key.</li>\n",
    "        <li><strong>season.year (Integer)</strong> Season year to which this specific observation is related to. This is used based on <b>NBA</b>'s seasons (i.e. 2022 for the 2021-2022 season). As a result, when comparing within this dataset, <b>NCAA</b>'s seasons precede their <b>NBA</b> NBA counterpart. as an example,  <b>NCAA</b>'s 2020-2021 season is stored as 2020 while <b>NBA</b>'s 2020-2021 season is stored as 2021. </li>\n",
    "        <li><strong>season.stage (String)</strong> The season stage being stored. These values can have for values.\n",
    "            <ul>\n",
    "                <li><i>nba_season</i> Category that represents that the data is related to the regular <b>NBA</b> season.</li>\n",
    "                <li><i>nba_playoffs</i> Category that represents that the data is related to the <b>NBA</b> playoffs.</li>\n",
    "                <li><i>ncaa_season</i> Category that represents that the data is related to the regular <b>NCAA</b> season.</li>\n",
    "                <li><i>ncaa_conference</i> Category that represents that the data is related to the <b>NBA</b> conference playoffs.</li>\n",
    "            </ul>\n",
    "        </li>                \n",
    "        <li><strong>stat.games (Integer)</strong> Total number of games that player participated during the related stage for that season as part of the associated team.</li>\n",
    "        <li><strong>stat.gamesStart (Integer)</strong> Total number of games that player was a starting player during the related stage for the relevant season as part of the associated team.</li>\n",
    "        <li><strong>stat.minutes (Integer)</strong> Total number of minutes that player played during the related stage for the relevant season as part of the associated team.</li>\n",
    "        <li><strong>stat.fg (Integer)</strong> Total number of field goals that player made during the related stage for the relevant season as part of the associated team.</li>\n",
    "        <li><strong>stat.fga (Integer)</strong> Total number of field goals that player attempted during the related stage for the relevant season as part of the associated team.</li>\n",
    "        <li><strong>stat.fgPct (Integer)</strong> Percentage of sucessful field goals that player had during the related stage for the relevant season as part of the associated team.</li>\n",
    "        <li><strong>stat.fg2 (Integer)</strong> Total number of two-points field goals that player made during the related stage for the relevant season as part of the associated team.</li>\n",
    "        <li><strong>stat.fg2a (Integer)</strong> Total number of two-points field goals that player attempted during the related stage for the relevant season as part of the associated team.</li>\n",
    "        <li><strong>stat.fg2Pct (Float)</strong> Percentage of sucessful two-points field goals that player had during the related stage for the relevant season as part of the associated team.</li>\n",
    "        <li><strong>stat.fg3 (Integer)</strong> Total number of three-points field goals that player made during the related stage for the relevant season as part of the associated team.</li>\n",
    "        <li><strong>stat.fg3a (Integer)</strong> Total number of three-points field goals that player attempted during the related stage for the relevant season as part of the associated team.</li>\n",
    "        <li><strong>stat.fg3Pct (Float)</strong> Percentage of sucessful three-points field goals that player had during the related stage for the relevant season as part of the associated team.</li>\n",
    "        <li><strong>stat.efgPct (Float)</strong> Percentage of sucessful field goals accounting for both two and three-points field goals that player had during the related stage for the relevant season as part of the associated team.</li>\n",
    "        <li><strong>stat.ft (Integer)</strong> Total number of free throws that player made during the related stage for the relevant season as part of the associated team.</li>\n",
    "        <li><strong>stat.fta (Integer)</strong> Total number of free throws that player attempted during the related stage for the relevant season as part of the associated team.</li>\n",
    "        <li><strong>stat.ftPct (Float)</strong> Percentage of sucessful free throws that player had during the related stage for the relevant season as part of the associated team.</li>\n",
    "        <li><strong>stat.orb (Integer)</strong> Total number of offensive rebounds that player made during the related stage for the relevant season as part of the associated team.</li>\n",
    "        <li><strong>stat.drb (Integer)</strong> Total number of defensive rebounds that player made during the related stage for the relevant season as part of the associated team.</li>\n",
    "        <li><strong>stat.trb (Integer)</strong> Total number of rebounds that player made during the related stage for the relevant season as part of the associated team.</li>\n",
    "        <li><strong>stat.ast (Integer)</strong> Total number of assists that player made during the related stage for the relevant season as part of the associated team.</li>\n",
    "        <li><strong>stat.stl (Integer)</strong> Total number of steals that player made during the related stage for the relevant season as part of the associated team.</li>\n",
    "        <li><strong>stat.blk (Integer)</strong> Total number of blocks that player made during the related stage for the relevant season as part of the associated team.</li>\n",
    "        <li><strong>stat.tov (Integer)</strong> Total number of turnovers that player made during the related stage for the relevant season as part of the associated team.</li>\n",
    "        <li><strong>stat.pf (Integer)</strong> Total number of personal fouls that player made during the related stage for the relevant season as part of the associated team.</li>\n",
    "        <li><strong>stat.pts (Integer)</strong> Total number of poitns fouls that player made during the related stage for the relevant season as part of the associated team.</li>\n",
    "    </ul>\n",
    "</body>\n",
    "</html>\n"
   ]
  },
  {
   "cell_type": "markdown",
   "metadata": {},
   "source": [
    "#### Teams"
   ]
  },
  {
   "cell_type": "markdown",
   "metadata": {},
   "source": [
    "<!DOCTYPE html>\n",
    "<html>\n",
    "<head>\n",
    "    <title>Players Metadata</title>\n",
    "    <style>\n",
    "        ul {\n",
    "            list-style-type: none;\n",
    "        }\n",
    "        ul ul {\n",
    "            margin-left: 20px;\n",
    "        }\n",
    "    </style>\n",
    "</head>\n",
    "<body>\n",
    "    <p>Contains the individual information for every team, both for the <b>NBA</b> and <b>NCAA</b>. The description of the teams data is:.</p>\n",
    "    <ul>\n",
    "        <li><strong>team.id (Integer)</strong> An integer hash id for the team to be used as foreign key.</li>\n",
    "        <li><strong>team.name (String)</strong> The team's name. Formated to be in lower case and with utf-8 encoding.</li>\n",
    "        <li><strong>school.name (String)</strong> School's name. Formated to be in lower case and with utf-8 encoding. Valid only for <b>NCAA</b> teams, defaults to <i>'nba_team'</i> for <b>NBA</b> teams. </li>\n",
    "    </ul>\n",
    "</body>\n",
    "</html>\n"
   ]
  },
  {
   "cell_type": "markdown",
   "metadata": {},
   "source": [
    "#### Team History"
   ]
  },
  {
   "cell_type": "markdown",
   "metadata": {},
   "source": [
    "<!DOCTYPE html>\n",
    "<html>\n",
    "<head>\n",
    "    <title>Team History Metadata</title>\n",
    "    <style>\n",
    "        ul {\n",
    "            list-style-type: none;\n",
    "        }\n",
    "        ul ul {\n",
    "            margin-left: 20px;\n",
    "        }\n",
    "    </style>\n",
    "</head>\n",
    "<body>\n",
    "    <p>Tracks changes over time for all teams. The description of the team history data is:.</p>\n",
    "    <ul>\n",
    "        <li><strong>historical.id (Integer)</strong> An integer, sequentially created, to be used as a unique identifier and as foreign key.</li>\n",
    "        <li><strong>divisions.id (Integer) [FK]</strong> The divisions.division.id for the division this team was part during the related time period.</li>\n",
    "        <li><strong>conference.id (Integer) [FK]</strong> The conferences.conference.id for the conference this team was part during the related time period.</li>\n",
    "        <li><strong>geo.id (Integer) [FK]</strong> The cities.geo.id for the city this team was located during the related time period.</li>\n",
    "        <li><strong>team.id (Integer) [FK]</strong> The teams.team.id for the related team.</li>\n",
    "        <li><strong>historical.name (String)</strong> The related team name for this unique entry. Formated to be in lower case and with utf-8 encoding.</li>\n",
    "        <li><strong>team.tag (String)</strong> The related team tag (three letter abbreviation) for this unique entry. Currently only has data for <b>NBA</b> teams. Formated to be in lower case and with utf-8 encoding.</li>        \n",
    "        <li><strong>start.year (Integer)</strong> The first season year (i.e. 2024 for the 2023-2024 season) the conference used that specific name. Formated to be in lower case and with utf-8 encoding.</li>\n",
    "        <li><strong>end.year (Integer)</strong> The last season year (i.e. 2024 for the 2023-2024 season) the conference used that specific name. Formated to be in lower case and with utf-8 encoding.</li>\n",
    "    </ul>\n",
    "</body>\n",
    "</html>\n"
   ]
  },
  {
   "cell_type": "markdown",
   "metadata": {},
   "source": [
    "## Current Scripts"
   ]
  },
  {
   "cell_type": "markdown",
   "metadata": {},
   "source": [
    "This is a list of current scripts included in this project. Any new script added to [add file name here].py should be included in this part of the documentation."
   ]
  },
  {
   "cell_type": "markdown",
   "metadata": {},
   "source": [
    "### Accessing the Data"
   ]
  },
  {
   "cell_type": "markdown",
   "metadata": {},
   "source": [
    "All current data manipulation scripts are included in [dbutils.py](../src/dbutils.py) . Some of these scripts may take as an input a dataframe stored in csv format from the `data//lists` folder. This dataframe includes the names of the desired observations of a particular entity (players/teams/conferences/etc.) to be fitered into the final dataframe to be stored in `.//data//raw`."
   ]
  },
  {
   "cell_type": "markdown",
   "metadata": {},
   "source": [
    "##### [View] Player Stats [view_playerStats(list_id=None, drop_id=True)]"
   ]
  },
  {
   "cell_type": "markdown",
   "metadata": {},
   "source": [
    "In order to view players stats summary, an overall of their play statistics for a year. This function will replace the team ID and player ID from the default playerHistory table, while combining the numbers for players that represented different teams within a single season and players that have stats for both the regular season and conference/playoffs. This function consolidates data for all players in the database, unless a list of player IDs is used as the `list_id` parameter. A view (`view_playerHistory`) will be created, for easy access while running other scripts, if no player ID filter is provided. A second parameter `drop_id`, set to `True` by default, so the user can change to false in case he wishes to keep the unique `player_id` and `team_id` from `view_playerHistory`."
   ]
  },
  {
   "cell_type": "markdown",
   "metadata": {},
   "source": [
    "##### Player Stats [get_playerID(df)]"
   ]
  },
  {
   "cell_type": "markdown",
   "metadata": {},
   "source": [
    "This is a support function to allow users access to player IDs. The dataframe to be used as a parameter must have three columns (player, team, year) to select the IDs of the requested players. Since several players have homonymous counterparts, this will ensure the correct entity is used."
   ]
  },
  {
   "cell_type": "markdown",
   "metadata": {},
   "source": [
    "### Displaying the Data"
   ]
  },
  {
   "cell_type": "markdown",
   "metadata": {},
   "source": [
    "All current data visualization scripts are incuded in `[add file name here].py`. Theses scripts often take dataframes created by a data manipulation function as an input to display relevant data or store the rendered image in `.//img`."
   ]
  },
  {
   "cell_type": "markdown",
   "metadata": {},
   "source": [
    "### Analyzing the Data"
   ]
  },
  {
   "cell_type": "markdown",
   "metadata": {},
   "source": [
    "All current statiscal and machine learning scripts are incuded in `[add file name here].py`. Theses scripts take dataframes created by a data manipulation function perform statistical and machine learning calculations, often storing the results as individual dataframes or objects to be used in data visualization or further analyzing scripts. Final dataframes are to be stored in `.//data//proc` while objects to be further manipulated in any way are to be stored in `.//data//raw`"
   ]
  },
  {
   "cell_type": "markdown",
   "metadata": {},
   "source": [
    "## Data Integration Note"
   ]
  },
  {
   "cell_type": "markdown",
   "metadata": {},
   "source": [
    "<!DOCTYPE html>\n",
    "<html>\n",
    "<head>\n",
    "    <title>Data Integration Note</title>\n",
    "    <style>\n",
    "        ul {\n",
    "            list-style-type: none;\n",
    "        }\n",
    "        ul ul {\n",
    "            margin-left: 20px;\n",
    "        }\n",
    "        code {\n",
    "            background-color: #3c3c3c;\n",
    "            color: #bebebe;\n",
    "            padding: 0.2em 0.4em;\n",
    "            border-radius: 3px;\n",
    "            font-style:italic;\n",
    "        }\n",
    "    </style>\n",
    "</head>\n",
    "<body>\n",
    "    <p>This database was created by scraping data from various online sources, each of which used different key identifiers for players. The integration of these datasets was achieved through a combination of player names and the seasons they played. However, due to the presence of homonymous players with overlapping or close career timelines, it was sometimes impossible to accurately map players across all databases.</p>\n",
    "    <p>For example, a player named <code>Josh Powell</code> participated in the <code>2003-04</code> combine. The <code>NCAA</code> database contains two different players named <code>Josh Powell</code>, one with a career spanning from <code>2003</code> to <code>2006</code>, and another from <code>2002</code> to <code>2003</code>. Meanwhile, the <code>NBA</code> database lists a single <code>Josh Powell</code>, whose career ran from <code>2006</code> to <code>2014</code>. This leaves two possible interpretations:</p>    \n",
    "    <ul>\n",
    "        <li><strong>A:</strong> The combine player participated in the combine during the final year of his <code>NCAA</code> career and had a two-year gap before his <code>NBA</code> debut.</li>\n",
    "        <li><strong>B:</strong> The combine player participated in the combine right after high school and began his professional career immediately following his college years.</li>        \n",
    "    </ul>\n",
    "    <p>Another example is the player <code>Matt Carroll</code>. There is a single player named <code>Matt Carroll</code> in both <code>NCAA</code> and <code>NBA</code> datasets, however these entries are for different individuals. Determining the correct connection requires manual intervention, and as such, some links between players may have been made incorrectly. This issue primarily impacts the combine data, so caution is advised when utilizing this portion of the dataset.</p>\n",
    "    <p>The origin of this issue is the sheer frequency of homonymous, specially occurances with a single entry of each in the database. A safe way to avoid this issue is to limit the queries to seasons ranging from 2005 to 2022. As this repository is updated and the issue is resolved, this disclaimer will be removed.</p>\n",
    "</body>\n",
    "</html>\n"
   ]
  }
 ],
 "metadata": {
  "kernelspec": {
   "display_name": ".venv",
   "language": "python",
   "name": "python3"
  },
  "language_info": {
   "codemirror_mode": {
    "name": "ipython",
    "version": 3
   },
   "file_extension": ".py",
   "mimetype": "text/x-python",
   "name": "python",
   "nbconvert_exporter": "python",
   "pygments_lexer": "ipython3",
   "version": "3.12.2"
  }
 },
 "nbformat": 4,
 "nbformat_minor": 2
}
